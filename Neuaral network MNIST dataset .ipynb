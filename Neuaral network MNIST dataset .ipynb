{
 "cells": [
  {
   "cell_type": "code",
   "execution_count": 2,
   "metadata": {},
   "outputs": [
    {
     "name": "stdout",
     "output_type": "stream",
     "text": [
      "Downloading data from https://storage.googleapis.com/tensorflow/tf-keras-datasets/train-labels-idx1-ubyte.gz\n",
      "32768/29515 [=================================] - 0s 0us/step\n",
      "Downloading data from https://storage.googleapis.com/tensorflow/tf-keras-datasets/train-images-idx3-ubyte.gz\n",
      "26427392/26421880 [==============================] - 3s 0us/step\n",
      "Downloading data from https://storage.googleapis.com/tensorflow/tf-keras-datasets/t10k-labels-idx1-ubyte.gz\n",
      "8192/5148 [===============================================] - 0s 0us/step\n",
      "Downloading data from https://storage.googleapis.com/tensorflow/tf-keras-datasets/t10k-images-idx3-ubyte.gz\n",
      "4423680/4422102 [==============================] - 1s 0us/step\n"
     ]
    }
   ],
   "source": [
    "import tensorflow as tf\n",
    "from tensorflow import keras\n",
    "\n",
    "\n",
    "(x_train,y_train),(x_val,y_val)=keras.datasets.fashion_mnist.load_data()"
   ]
  },
  {
   "cell_type": "code",
   "execution_count": 5,
   "metadata": {},
   "outputs": [],
   "source": [
    "def preprocess(x, y):\n",
    "    x = tf.cast(x, tf.float32) / 255.0\n",
    "    y = tf.cast(y, tf.int64)\n",
    "    return x, y\n",
    "\n",
    "def create_dataset(xs, ys, n_classes=10):\n",
    "    ys=tf.one_hot(ys,depth=n_classes)\n",
    "    return tf.data.Dataset.from_tensor_slices((xs, ys)).map(preprocess).shuffle(len(ys)).batch(128)"
   ]
  },
  {
   "cell_type": "code",
   "execution_count": 6,
   "metadata": {},
   "outputs": [],
   "source": [
    "train_data_set = create_dataset(x_train,y_train)\n",
    "validation_data_set = create_dataset(x_val,y_val)"
   ]
  },
  {
   "cell_type": "code",
   "execution_count": 7,
   "metadata": {},
   "outputs": [],
   "source": [
    "first_model = keras.Sequential([\n",
    "    keras.layers.Reshape(target_shape=(28 * 28,), input_shape=(28, 28)),\n",
    "    keras.layers.Dense(units=256, activation='relu'),\n",
    "    keras.layers.Dense(units=192, activation='relu'),\n",
    "    keras.layers.Dense(units=128, activation='relu'),\n",
    "    keras.layers.Dense(units=10, activation='softmax')\n",
    "])    "
   ]
  },
  {
   "cell_type": "code",
   "execution_count": 9,
   "metadata": {},
   "outputs": [
    {
     "name": "stdout",
     "output_type": "stream",
     "text": [
      "Epoch 1/15\n",
      "500/500 [==============================] - 19s 38ms/step - loss: 1.6816 - accuracy: 0.7843 - val_loss: 1.6339 - val_accuracy: 0.8281\n",
      "Epoch 2/15\n",
      "500/500 [==============================] - 16s 31ms/step - loss: 1.6260 - accuracy: 0.8354 - val_loss: 1.6163 - val_accuracy: 0.8398\n",
      "Epoch 3/15\n",
      "500/500 [==============================] - 4s 9ms/step - loss: 1.6127 - accuracy: 0.8482 - val_loss: 1.6196 - val_accuracy: 0.8438\n",
      "Epoch 4/15\n",
      "500/500 [==============================] - 4s 9ms/step - loss: 1.6081 - accuracy: 0.8528 - val_loss: 1.6180 - val_accuracy: 0.8438\n",
      "Epoch 5/15\n",
      "500/500 [==============================] - 4s 9ms/step - loss: 1.5993 - accuracy: 0.8619 - val_loss: 1.6215 - val_accuracy: 0.8398\n",
      "Epoch 6/15\n",
      "500/500 [==============================] - 4s 9ms/step - loss: 1.5968 - accuracy: 0.8642 - val_loss: 1.6265 - val_accuracy: 0.8320\n",
      "Epoch 7/15\n",
      "500/500 [==============================] - 4s 9ms/step - loss: 1.5941 - accuracy: 0.8665 - val_loss: 1.6089 - val_accuracy: 0.8477\n",
      "Epoch 8/15\n",
      "500/500 [==============================] - 4s 9ms/step - loss: 1.5925 - accuracy: 0.8685 - val_loss: 1.6059 - val_accuracy: 0.8516\n",
      "Epoch 9/15\n",
      "500/500 [==============================] - 4s 9ms/step - loss: 1.5903 - accuracy: 0.8704 - val_loss: 1.6070 - val_accuracy: 0.8516\n",
      "Epoch 10/15\n",
      "500/500 [==============================] - 4s 9ms/step - loss: 1.5869 - accuracy: 0.8740 - val_loss: 1.6371 - val_accuracy: 0.8203\n",
      "Epoch 11/15\n",
      "500/500 [==============================] - 4s 9ms/step - loss: 1.5876 - accuracy: 0.8731 - val_loss: 1.6339 - val_accuracy: 0.8281\n",
      "Epoch 12/15\n",
      "500/500 [==============================] - 5s 9ms/step - loss: 1.5865 - accuracy: 0.8742 - val_loss: 1.5806 - val_accuracy: 0.8828\n",
      "Epoch 13/15\n",
      "500/500 [==============================] - 4s 9ms/step - loss: 1.5828 - accuracy: 0.8780 - val_loss: 1.6042 - val_accuracy: 0.8594\n",
      "Epoch 14/15\n",
      "500/500 [==============================] - 4s 9ms/step - loss: 1.5839 - accuracy: 0.8769 - val_loss: 1.5958 - val_accuracy: 0.8672\n",
      "Epoch 15/15\n",
      "500/500 [==============================] - 5s 9ms/step - loss: 1.5829 - accuracy: 0.8776 - val_loss: 1.5909 - val_accuracy: 0.8750\n"
     ]
    }
   ],
   "source": [
    "first_model.compile(optimizer='adam',loss=tf.losses.CategoricalCrossentropy(from_logits=True),metrics=['accuracy'])\n",
    "\n",
    "\n",
    "\n",
    "history = first_model.fit(\n",
    "    train_data_set.repeat(),\n",
    "    epochs=15,\n",
    "    steps_per_epoch=500,\n",
    "    validation_data=validation_data_set.repeat(),\n",
    "    validation_steps=2\n",
    "    )\n",
    "    "
   ]
  },
  {
   "cell_type": "code",
   "execution_count": 10,
   "metadata": {},
   "outputs": [],
   "source": [
    "predicted_value = first_model.predict(validation_data_set)"
   ]
  },
  {
   "cell_type": "code",
   "execution_count": 11,
   "metadata": {},
   "outputs": [
    {
     "name": "stdout",
     "output_type": "stream",
     "text": [
      "[1.2297246e-25 1.7052844e-19 5.1475852e-22 9.8580104e-01 1.4198905e-02\n",
      " 4.0330375e-16 7.0039375e-23 5.4854836e-26 2.9129064e-19 4.4596790e-28]\n"
     ]
    }
   ],
   "source": [
    "print (predicted_value[0])"
   ]
  },
  {
   "cell_type": "code",
   "execution_count": 12,
   "metadata": {},
   "outputs": [
    {
     "data": {
      "text/plain": [
       "3"
      ]
     },
     "execution_count": 12,
     "metadata": {},
     "output_type": "execute_result"
    }
   ],
   "source": [
    "import numpy as np\n",
    "np.argmax(predicted_value[0])"
   ]
  },
  {
   "cell_type": "code",
   "execution_count": null,
   "metadata": {},
   "outputs": [],
   "source": []
  },
  {
   "cell_type": "code",
   "execution_count": null,
   "metadata": {},
   "outputs": [],
   "source": []
  }
 ],
 "metadata": {
  "kernelspec": {
   "display_name": "Python 3",
   "language": "python",
   "name": "python3"
  },
  "language_info": {
   "codemirror_mode": {
    "name": "ipython",
    "version": 3
   },
   "file_extension": ".py",
   "mimetype": "text/x-python",
   "name": "python",
   "nbconvert_exporter": "python",
   "pygments_lexer": "ipython3",
   "version": "3.8.5"
  }
 },
 "nbformat": 4,
 "nbformat_minor": 4
}
