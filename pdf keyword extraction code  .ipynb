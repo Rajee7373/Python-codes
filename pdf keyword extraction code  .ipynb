{
 "cells": [
  {
   "cell_type": "code",
   "execution_count": null,
   "metadata": {},
   "outputs": [],
   "source": [
    "import PyPDF2\n",
    "from gensim.summarization import keywords\n",
    "import pandas as pd\n",
    "import nltk\n",
    "\n",
    "file = open('fileuwannnaextract.pdf', 'rb')\n",
    "readpdf = PyPDF2.PdfFileReader(file)\n",
    "num_pages = readpdf.numPages\n",
    "data = \"\"\n",
    "for pages in range(num_pages):\n",
    "    page = pdfReader.getPage(pages)\n",
    "    data += page.extractText()\n",
    "if data != \"\":\n",
    "    data = data\n",
    "values = keywords(data,scores=True, lemmatize= True)\n",
    "print(values)\n",
    "print(len(values))\n",
    "\n",
    "dataframe = pd.DataFrame(values,columns=['keywords','weights'])\n",
    "dataframe.to_csv(\"testcsv.csv\", index=False)"
   ]
  }
 ],
 "metadata": {
  "kernelspec": {
   "display_name": "Python 3",
   "language": "python",
   "name": "python3"
  },
  "language_info": {
   "codemirror_mode": {
    "name": "ipython",
    "version": 3
   },
   "file_extension": ".py",
   "mimetype": "text/x-python",
   "name": "python",
   "nbconvert_exporter": "python",
   "pygments_lexer": "ipython3",
   "version": "3.8.5"
  }
 },
 "nbformat": 4,
 "nbformat_minor": 4
}
